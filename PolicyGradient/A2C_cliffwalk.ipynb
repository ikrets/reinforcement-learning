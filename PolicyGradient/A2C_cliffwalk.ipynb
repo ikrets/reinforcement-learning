{
 "cells": [
  {
   "cell_type": "code",
   "execution_count": 54,
   "metadata": {},
   "outputs": [],
   "source": [
    "import gym\n",
    "import numpy as np\n",
    "import matplotlib.pyplot as plt\n",
    "import sys\n",
    "if \"../\" not in sys.path:\n",
    "  sys.path.append(\"../\") \n",
    "from lib.envs.cliff_walking import CliffWalkingEnv\n",
    "\n",
    "import tensorflow as tf"
   ]
  },
  {
   "cell_type": "code",
   "execution_count": 182,
   "metadata": {},
   "outputs": [],
   "source": [
    "run = 0"
   ]
  },
  {
   "cell_type": "code",
   "execution_count": 55,
   "metadata": {},
   "outputs": [],
   "source": [
    "env = CliffWalkingEnv()\n",
    "action_descriptions = { 0: 'up', 1: 'right', 2: 'down', 3: 'left' }"
   ]
  },
  {
   "cell_type": "code",
   "execution_count": 137,
   "metadata": {},
   "outputs": [],
   "source": [
    "def plot_information(policies, values, qs):\n",
    "    def plot_actions(data, title):\n",
    "        fig, axes = plt.subplots(2, 2, figsize=(17, 7))\n",
    "        fig.suptitle(title)\n",
    "        for j in range(4):\n",
    "            axes.flat[j].set_title(f'Action {action_descriptions[j]}')\n",
    "            image = data[:, j].reshape((4, -1))\n",
    "            im = axes.flat[j].imshow(image)\n",
    "        fig.colorbar(im, ax=axes.ravel().tolist())\n",
    "\n",
    "    plot_actions(policies, 'Policies')\n",
    "    plt.show()\n",
    "#     plot_actions(qs, 'Q values')\n",
    "#     plt.show()\n",
    "    \n",
    "    fig = plt.figure(figsize=(17, 4))\n",
    "    plt.imshow(values.reshape((4, -1)))\n",
    "    plt.title('State values')\n",
    "    plt.colorbar()\n",
    "    plt.show()"
   ]
  },
  {
   "cell_type": "code",
   "execution_count": 263,
   "metadata": {},
   "outputs": [],
   "source": [
    "def actionImages(tensor):\n",
    "    tensor = tf.transpose(tf.reshape(tensor, (4, 12, 4, 1)), perm=[2, 0, 1, 3])\n",
    "    images = {}\n",
    "    for key, value in action_descriptions.items():\n",
    "        images[value] = tf.expand_dims(tf.gather(tensor, key), 0)\n",
    "        \n",
    "    return images"
   ]
  },
  {
   "cell_type": "code",
   "execution_count": 345,
   "metadata": {},
   "outputs": [],
   "source": [
    "class PolicyEstimator:\n",
    "    def __init__(self, learning_rate, value_estimator, q_estimator, state, action):\n",
    "        with tf.variable_scope(\"policy_estimator\", reuse=tf.AUTO_REUSE):\n",
    "            advantage = value_estimator.target\n",
    "\n",
    "            every_state = tf.range(env.observation_space.n, dtype=tf.int32)\n",
    "            one_hots = tf.one_hot(every_state, depth=env.observation_space.n)\n",
    "            parameters = tf.layers.dense(\n",
    "                one_hots,\n",
    "                env.action_space.n,\n",
    "                kernel_initializer=tf.zeros_initializer(),\n",
    "                use_bias=False,\n",
    "                name=\"parameters\",\n",
    "            )\n",
    "\n",
    "            self.policy = tf.nn.softmax(parameters)\n",
    "            self.action_probs = tf.squeeze(tf.gather_nd(self.policy, [[state]]), name='state_policy')\n",
    "            self.picked_action_prob = tf.squeeze(tf.gather(self.action_probs, [action]))\n",
    "            self.loss = -tf.log(self.picked_action_prob) * advantage\n",
    "\n",
    "            self.optimizer = tf.train.AdamOptimizer(learning_rate)\n",
    "            self.train_op = self.optimizer.minimize(\n",
    "                self.loss, global_step=tf.train.get_global_step()\n",
    "            )\n",
    "\n",
    "            tf.summary.histogram(\n",
    "                \"parameters_kernel\", tf.get_variable(\"parameters/kernel\")\n",
    "            )\n",
    "            tf.summary.scalar(\"loss\", self.loss)\n",
    "\n",
    "            for name, image in actionImages(self.policy).items():\n",
    "                tf.summary.image(name, image)"
   ]
  },
  {
   "cell_type": "code",
   "execution_count": 346,
   "metadata": {},
   "outputs": [],
   "source": [
    "class ValueEstimator:\n",
    "    def __init__(self, learning_rate, state, reward, next_state):\n",
    "        with tf.variable_scope(\"value_estimator\", reuse=tf.AUTO_REUSE):\n",
    "            every_state = tf.range(env.observation_space.n, dtype=tf.int32)\n",
    "            one_hots = tf.one_hot(every_state, depth=env.observation_space.n)\n",
    "\n",
    "            self.values = tf.squeeze(\n",
    "                tf.layers.dense(\n",
    "                    one_hots,\n",
    "                    1,\n",
    "                    kernel_initializer=tf.zeros_initializer(),\n",
    "                    use_bias=False,\n",
    "                    name=\"parameters\",\n",
    "                )\n",
    "            )\n",
    "\n",
    "            self.prediction = tf.squeeze(tf.gather(self.values, state))\n",
    "            next_prediction = tf.squeeze(tf.gather(self.values, next_state))\n",
    "            self.target = next_prediction + reward\n",
    "\n",
    "            tf.summary.scalar(\"value_estimator_target\", self.target)\n",
    "            tf.summary.scalar(\"value_estimator_prediction\", self.prediction)\n",
    "            self.loss = tf.squared_difference(self.prediction, self.target)\n",
    "\n",
    "            self.optimizer = tf.train.AdamOptimizer(learning_rate)\n",
    "            self.train_op = self.optimizer.minimize(\n",
    "                self.loss, global_step=tf.train.get_global_step()\n",
    "            )\n",
    "\n",
    "            tf.summary.histogram(\n",
    "                \"parameters_kernel\", tf.get_variable(\"parameters/kernel\")\n",
    "            )\n",
    "            tf.summary.scalar(\"loss\", self.loss)\n",
    "            tf.summary.image(\n",
    "                \"values\",\n",
    "                tf.transpose(tf.reshape(self.values, [1, 12, 4, 1]), perm=[0, 2, 1, 3]),\n",
    "            )"
   ]
  },
  {
   "cell_type": "code",
   "execution_count": 347,
   "metadata": {},
   "outputs": [],
   "source": [
    "class QEstimator:\n",
    "    def __init__(self, learning_rate, state, action, reward, next_state):\n",
    "        sa_to_index = lambda s, a: s * env.action_space.n + a\n",
    "        depth = env.action_space.n * env.observation_space.n\n",
    "\n",
    "        with tf.variable_scope(\"q_estimator\", reuse=tf.AUTO_REUSE):\n",
    "            every_sa = tf.range(\n",
    "                env.action_space.n * env.observation_space.n, dtype=tf.int32\n",
    "            )\n",
    "            one_hots = tf.one_hot(every_sa, depth=every_sa.shape[0])\n",
    "\n",
    "            self.outputs = tf.squeeze(\n",
    "                tf.layers.dense(\n",
    "                    one_hots,\n",
    "                    1,\n",
    "                    kernel_initializer=tf.zeros_initializer(),\n",
    "                    use_bias=False,\n",
    "                )\n",
    "            )\n",
    "\n",
    "            self.prediction = tf.squeeze(\n",
    "                tf.gather(self.outputs, sa_to_index(state, action))\n",
    "            )\n",
    "            next_predictions = tf.squeeze(\n",
    "                tf.gather(\n",
    "                    self.outputs,\n",
    "                    tf.range(\n",
    "                        sa_to_index(next_state, 0),\n",
    "                        sa_to_index(next_state, env.action_space.n),\n",
    "                    ),\n",
    "                )\n",
    "            )\n",
    "\n",
    "            target = tf.reduce_max(next_predictions) + reward\n",
    "            self.loss = tf.squared_difference(self.prediction, target)\n",
    "\n",
    "            optimizer = tf.train.AdamOptimizer(learning_rate)\n",
    "            self.train_op = optimizer.minimize(\n",
    "                self.loss, global_step=tf.train.get_global_step()\n",
    "            )\n",
    "\n",
    "            for name, image in actionImages(self.outputs).items():\n",
    "                tf.summary.image(name, image)"
   ]
  },
  {
   "cell_type": "code",
   "execution_count": 348,
   "metadata": {},
   "outputs": [],
   "source": [
    "tf.reset_default_graph()\n",
    "sess = tf.InteractiveSession()\n",
    "tf.train.create_global_step()\n",
    "\n",
    "p_state = tf.placeholder(tf.int32, [])\n",
    "p_action = tf.placeholder(tf.int32, [])\n",
    "p_next_state = tf.placeholder(tf.int32, [])\n",
    "p_next_action = tf.placeholder(tf.int32, [])\n",
    "p_reward = tf.placeholder(tf.float32)\n",
    "\n",
    "value_estimator = ValueEstimator(0.1, p_state, p_reward, p_next_state)\n",
    "q_estimator = QEstimator(0.5, p_state, p_action, p_reward, p_next_state)\n",
    "policy_estimator = PolicyEstimator(0.01, value_estimator, q_estimator, p_state, p_action)\n",
    "\n",
    "writer = tf.summary.FileWriter(f\"summaries/run_{run}\", tf.get_default_graph())\n",
    "run += 1\n",
    "all_summaries = tf.summary.merge_all()\n",
    "global_step = 0"
   ]
  },
  {
   "cell_type": "code",
   "execution_count": 349,
   "metadata": {},
   "outputs": [
    {
     "name": "stdout",
     "output_type": "stream",
     "text": [
      "Step 79379 @ Episode 51 (-617)"
     ]
    },
    {
     "ename": "KeyboardInterrupt",
     "evalue": "",
     "output_type": "error",
     "traceback": [
      "\u001b[0;31m---------------------------------------------------------------------------\u001b[0m",
      "\u001b[0;31mKeyboardInterrupt\u001b[0m                         Traceback (most recent call last)",
      "\u001b[0;32m<ipython-input-349-57c47b9cb4e7>\u001b[0m in \u001b[0;36m<module>\u001b[0;34m()\u001b[0m\n\u001b[1;32m     40\u001b[0m                 \u001b[0mp_reward\u001b[0m\u001b[0;34m:\u001b[0m \u001b[0mreward\u001b[0m\u001b[0;34m,\u001b[0m\u001b[0;34m\u001b[0m\u001b[0m\n\u001b[1;32m     41\u001b[0m                 \u001b[0mp_next_state\u001b[0m\u001b[0;34m:\u001b[0m \u001b[0mnext_state\u001b[0m\u001b[0;34m,\u001b[0m\u001b[0;34m\u001b[0m\u001b[0m\n\u001b[0;32m---> 42\u001b[0;31m                 \u001b[0mp_next_action\u001b[0m\u001b[0;34m:\u001b[0m \u001b[0maction\u001b[0m\u001b[0;34m,\u001b[0m\u001b[0;34m\u001b[0m\u001b[0m\n\u001b[0m\u001b[1;32m     43\u001b[0m             },\n\u001b[1;32m     44\u001b[0m         )\n",
      "\u001b[0;32m~/.local/lib/python3.6/site-packages/tensorflow/python/client/session.py\u001b[0m in \u001b[0;36mrun\u001b[0;34m(self, fetches, feed_dict, options, run_metadata)\u001b[0m\n\u001b[1;32m    903\u001b[0m     \u001b[0;32mtry\u001b[0m\u001b[0;34m:\u001b[0m\u001b[0;34m\u001b[0m\u001b[0m\n\u001b[1;32m    904\u001b[0m       result = self._run(None, fetches, feed_dict, options_ptr,\n\u001b[0;32m--> 905\u001b[0;31m                          run_metadata_ptr)\n\u001b[0m\u001b[1;32m    906\u001b[0m       \u001b[0;32mif\u001b[0m \u001b[0mrun_metadata\u001b[0m\u001b[0;34m:\u001b[0m\u001b[0;34m\u001b[0m\u001b[0m\n\u001b[1;32m    907\u001b[0m         \u001b[0mproto_data\u001b[0m \u001b[0;34m=\u001b[0m \u001b[0mtf_session\u001b[0m\u001b[0;34m.\u001b[0m\u001b[0mTF_GetBuffer\u001b[0m\u001b[0;34m(\u001b[0m\u001b[0mrun_metadata_ptr\u001b[0m\u001b[0;34m)\u001b[0m\u001b[0;34m\u001b[0m\u001b[0m\n",
      "\u001b[0;32m~/.local/lib/python3.6/site-packages/tensorflow/python/client/session.py\u001b[0m in \u001b[0;36m_run\u001b[0;34m(self, handle, fetches, feed_dict, options, run_metadata)\u001b[0m\n\u001b[1;32m   1138\u001b[0m     \u001b[0;32mif\u001b[0m \u001b[0mfinal_fetches\u001b[0m \u001b[0;32mor\u001b[0m \u001b[0mfinal_targets\u001b[0m \u001b[0;32mor\u001b[0m \u001b[0;34m(\u001b[0m\u001b[0mhandle\u001b[0m \u001b[0;32mand\u001b[0m \u001b[0mfeed_dict_tensor\u001b[0m\u001b[0;34m)\u001b[0m\u001b[0;34m:\u001b[0m\u001b[0;34m\u001b[0m\u001b[0m\n\u001b[1;32m   1139\u001b[0m       results = self._do_run(handle, final_targets, final_fetches,\n\u001b[0;32m-> 1140\u001b[0;31m                              feed_dict_tensor, options, run_metadata)\n\u001b[0m\u001b[1;32m   1141\u001b[0m     \u001b[0;32melse\u001b[0m\u001b[0;34m:\u001b[0m\u001b[0;34m\u001b[0m\u001b[0m\n\u001b[1;32m   1142\u001b[0m       \u001b[0mresults\u001b[0m \u001b[0;34m=\u001b[0m \u001b[0;34m[\u001b[0m\u001b[0;34m]\u001b[0m\u001b[0;34m\u001b[0m\u001b[0m\n",
      "\u001b[0;32m~/.local/lib/python3.6/site-packages/tensorflow/python/client/session.py\u001b[0m in \u001b[0;36m_do_run\u001b[0;34m(self, handle, target_list, fetch_list, feed_dict, options, run_metadata)\u001b[0m\n\u001b[1;32m   1319\u001b[0m     \u001b[0;32mif\u001b[0m \u001b[0mhandle\u001b[0m \u001b[0;32mis\u001b[0m \u001b[0;32mNone\u001b[0m\u001b[0;34m:\u001b[0m\u001b[0;34m\u001b[0m\u001b[0m\n\u001b[1;32m   1320\u001b[0m       return self._do_call(_run_fn, feeds, fetches, targets, options,\n\u001b[0;32m-> 1321\u001b[0;31m                            run_metadata)\n\u001b[0m\u001b[1;32m   1322\u001b[0m     \u001b[0;32melse\u001b[0m\u001b[0;34m:\u001b[0m\u001b[0;34m\u001b[0m\u001b[0m\n\u001b[1;32m   1323\u001b[0m       \u001b[0;32mreturn\u001b[0m \u001b[0mself\u001b[0m\u001b[0;34m.\u001b[0m\u001b[0m_do_call\u001b[0m\u001b[0;34m(\u001b[0m\u001b[0m_prun_fn\u001b[0m\u001b[0;34m,\u001b[0m \u001b[0mhandle\u001b[0m\u001b[0;34m,\u001b[0m \u001b[0mfeeds\u001b[0m\u001b[0;34m,\u001b[0m \u001b[0mfetches\u001b[0m\u001b[0;34m)\u001b[0m\u001b[0;34m\u001b[0m\u001b[0m\n",
      "\u001b[0;32m~/.local/lib/python3.6/site-packages/tensorflow/python/client/session.py\u001b[0m in \u001b[0;36m_do_call\u001b[0;34m(self, fn, *args)\u001b[0m\n\u001b[1;32m   1325\u001b[0m   \u001b[0;32mdef\u001b[0m \u001b[0m_do_call\u001b[0m\u001b[0;34m(\u001b[0m\u001b[0mself\u001b[0m\u001b[0;34m,\u001b[0m \u001b[0mfn\u001b[0m\u001b[0;34m,\u001b[0m \u001b[0;34m*\u001b[0m\u001b[0margs\u001b[0m\u001b[0;34m)\u001b[0m\u001b[0;34m:\u001b[0m\u001b[0;34m\u001b[0m\u001b[0m\n\u001b[1;32m   1326\u001b[0m     \u001b[0;32mtry\u001b[0m\u001b[0;34m:\u001b[0m\u001b[0;34m\u001b[0m\u001b[0m\n\u001b[0;32m-> 1327\u001b[0;31m       \u001b[0;32mreturn\u001b[0m \u001b[0mfn\u001b[0m\u001b[0;34m(\u001b[0m\u001b[0;34m*\u001b[0m\u001b[0margs\u001b[0m\u001b[0;34m)\u001b[0m\u001b[0;34m\u001b[0m\u001b[0m\n\u001b[0m\u001b[1;32m   1328\u001b[0m     \u001b[0;32mexcept\u001b[0m \u001b[0merrors\u001b[0m\u001b[0;34m.\u001b[0m\u001b[0mOpError\u001b[0m \u001b[0;32mas\u001b[0m \u001b[0me\u001b[0m\u001b[0;34m:\u001b[0m\u001b[0;34m\u001b[0m\u001b[0m\n\u001b[1;32m   1329\u001b[0m       \u001b[0mmessage\u001b[0m \u001b[0;34m=\u001b[0m \u001b[0mcompat\u001b[0m\u001b[0;34m.\u001b[0m\u001b[0mas_text\u001b[0m\u001b[0;34m(\u001b[0m\u001b[0me\u001b[0m\u001b[0;34m.\u001b[0m\u001b[0mmessage\u001b[0m\u001b[0;34m)\u001b[0m\u001b[0;34m\u001b[0m\u001b[0m\n",
      "\u001b[0;32m~/.local/lib/python3.6/site-packages/tensorflow/python/client/session.py\u001b[0m in \u001b[0;36m_run_fn\u001b[0;34m(feed_dict, fetch_list, target_list, options, run_metadata)\u001b[0m\n\u001b[1;32m   1310\u001b[0m       \u001b[0mself\u001b[0m\u001b[0;34m.\u001b[0m\u001b[0m_extend_graph\u001b[0m\u001b[0;34m(\u001b[0m\u001b[0;34m)\u001b[0m\u001b[0;34m\u001b[0m\u001b[0m\n\u001b[1;32m   1311\u001b[0m       return self._call_tf_sessionrun(\n\u001b[0;32m-> 1312\u001b[0;31m           options, feed_dict, fetch_list, target_list, run_metadata)\n\u001b[0m\u001b[1;32m   1313\u001b[0m \u001b[0;34m\u001b[0m\u001b[0m\n\u001b[1;32m   1314\u001b[0m     \u001b[0;32mdef\u001b[0m \u001b[0m_prun_fn\u001b[0m\u001b[0;34m(\u001b[0m\u001b[0mhandle\u001b[0m\u001b[0;34m,\u001b[0m \u001b[0mfeed_dict\u001b[0m\u001b[0;34m,\u001b[0m \u001b[0mfetch_list\u001b[0m\u001b[0;34m)\u001b[0m\u001b[0;34m:\u001b[0m\u001b[0;34m\u001b[0m\u001b[0m\n",
      "\u001b[0;32m~/.local/lib/python3.6/site-packages/tensorflow/python/client/session.py\u001b[0m in \u001b[0;36m_call_tf_sessionrun\u001b[0;34m(self, options, feed_dict, fetch_list, target_list, run_metadata)\u001b[0m\n\u001b[1;32m   1418\u001b[0m         return tf_session.TF_Run(\n\u001b[1;32m   1419\u001b[0m             \u001b[0mself\u001b[0m\u001b[0;34m.\u001b[0m\u001b[0m_session\u001b[0m\u001b[0;34m,\u001b[0m \u001b[0moptions\u001b[0m\u001b[0;34m,\u001b[0m \u001b[0mfeed_dict\u001b[0m\u001b[0;34m,\u001b[0m \u001b[0mfetch_list\u001b[0m\u001b[0;34m,\u001b[0m \u001b[0mtarget_list\u001b[0m\u001b[0;34m,\u001b[0m\u001b[0;34m\u001b[0m\u001b[0m\n\u001b[0;32m-> 1420\u001b[0;31m             status, run_metadata)\n\u001b[0m\u001b[1;32m   1421\u001b[0m \u001b[0;34m\u001b[0m\u001b[0m\n\u001b[1;32m   1422\u001b[0m   \u001b[0;32mdef\u001b[0m \u001b[0m_call_tf_sessionprun\u001b[0m\u001b[0;34m(\u001b[0m\u001b[0mself\u001b[0m\u001b[0;34m,\u001b[0m \u001b[0mhandle\u001b[0m\u001b[0;34m,\u001b[0m \u001b[0mfeed_dict\u001b[0m\u001b[0;34m,\u001b[0m \u001b[0mfetch_list\u001b[0m\u001b[0;34m)\u001b[0m\u001b[0;34m:\u001b[0m\u001b[0;34m\u001b[0m\u001b[0m\n",
      "\u001b[0;31mKeyboardInterrupt\u001b[0m: "
     ]
    }
   ],
   "source": [
    "sess.run(tf.global_variables_initializer())\n",
    "episode_lengths = []\n",
    "total_rewards = [0]\n",
    "policies = np.empty((env.observation_space.n, env.action_space.n), dtype=np.float32)\n",
    "values = np.empty(env.observation_space.n, dtype=np.float32)\n",
    "qs = np.empty_like(policies)\n",
    "\n",
    "for i in range(400):\n",
    "    state = env.reset()\n",
    "    \n",
    "    done = False\n",
    "    total_reward = 0\n",
    "    episode_length = 0\n",
    "\n",
    "    while not done:\n",
    "        action_probs = sess.run(policy_estimator.action_probs, {p_state: state})\n",
    "        action = np.random.choice(len(action_probs), p=action_probs)\n",
    "        \n",
    "        next_state, reward, done, _ = env.step(action)\n",
    "        \n",
    "        total_reward += reward\n",
    "        episode_length += 1\n",
    "\n",
    "        policies[state], values[state], qs[\n",
    "            state, action\n",
    "        ], summary, global_step, _, _, _ = sess.run(\n",
    "            [\n",
    "                policy_estimator.action_probs,\n",
    "                value_estimator.prediction,\n",
    "                q_estimator.prediction,\n",
    "                all_summaries,\n",
    "                tf.train.get_global_step(),\n",
    "                value_estimator.train_op,\n",
    "                q_estimator.train_op,\n",
    "                policy_estimator.train_op,\n",
    "            ],\n",
    "            {\n",
    "                p_state: state,\n",
    "                p_action: action,\n",
    "                p_reward: reward,\n",
    "                p_next_state: next_state,\n",
    "                p_next_action: action,\n",
    "            },\n",
    "        )\n",
    "        print(f\"\\rStep {episode_length} @ Episode {i} ({total_rewards[-1]})\", end=\"\")\n",
    "        writer.add_summary(summary, global_step)\n",
    "\n",
    "        state = next_state\n",
    "\n",
    "    episode_lengths.append(episode_length)\n",
    "    total_rewards.append(total_reward)\n",
    "\n"
   ]
  },
  {
   "cell_type": "code",
   "execution_count": 344,
   "metadata": {},
   "outputs": [
    {
     "data": {
      "text/plain": [
       "[<matplotlib.lines.Line2D at 0x7fb9f47bbcf8>]"
      ]
     },
     "execution_count": 344,
     "metadata": {},
     "output_type": "execute_result"
    },
    {
     "data": {
      "image/png": "[encoded data removed]",
      "text/plain": [
       "<Figure size 432x288 with 1 Axes>"
      ]
     },
     "metadata": {},
     "output_type": "display_data"
    },
    {
     "data": {
      "image/png": "[encoded data removed]",
      "text/plain": [
       "<Figure size 432x288 with 1 Axes>"
      ]
     },
     "metadata": {},
     "output_type": "display_data"
    }
   ],
   "source": [
    "def running_mean(x, N):\n",
    "    cumsum = np.cumsum(np.insert(x, 0, 0)) \n",
    "    return (cumsum[N:] - cumsum[:-N]) / float(N)\n",
    "\n",
    "plt.plot(running_mean(episode_lengths, 25))\n",
    "plt.figure()\n",
    "plt.plot(running_mean(total_rewards, 25))"
   ]
  },
  {
   "cell_type": "code",
   "execution_count": null,
   "metadata": {},
   "outputs": [],
   "source": []
  }
 ],
 "metadata": {
  "kernelspec": {
   "display_name": "Python 3",
   "language": "python",
   "name": "python3"
  },
  "language_info": {
   "codemirror_mode": {
    "name": "ipython",
    "version": 3
   },
   "file_extension": ".py",
   "mimetype": "text/x-python",
   "name": "python",
   "nbconvert_exporter": "python",
   "pygments_lexer": "ipython3",
   "version": "3.6.6"
  }
 },
 "nbformat": 4,
 "nbformat_minor": 2
}
