{
 "cells": [
  {
   "cell_type": "code",
   "execution_count": 1,
   "metadata": {},
   "outputs": [
    {
     "name": "stderr",
     "output_type": "stream",
     "text": [
      "/home/ilya/.local/lib/python3.6/site-packages/h5py/__init__.py:36: FutureWarning: Conversion of the second argument of issubdtype from `float` to `np.floating` is deprecated. In future, it will be treated as `np.float64 == np.dtype(float).type`.\n",
      "  from ._conv import register_converters as _register_converters\n"
     ]
    }
   ],
   "source": [
    "import gym\n",
    "import numpy as np\n",
    "import matplotlib.pyplot as plt\n",
    "import sys\n",
    "\n",
    "import tensorflow as tf\n",
    "from tensorboard.plugins.beholder import Beholder\n",
    "from collections import deque"
   ]
  },
  {
   "cell_type": "code",
   "execution_count": 2,
   "metadata": {},
   "outputs": [
    {
     "data": {
      "text/plain": [
       "<tf.Variable 'global_step:0' shape=() dtype=int64_ref>"
      ]
     },
     "execution_count": 2,
     "metadata": {},
     "output_type": "execute_result"
    }
   ],
   "source": [
    "run = 0\n",
    "tf.train.create_global_step()"
   ]
  },
  {
   "cell_type": "code",
   "execution_count": 3,
   "metadata": {},
   "outputs": [
    {
     "name": "stdout",
     "output_type": "stream",
     "text": [
      "\u001b[33mWARN: gym.spaces.Box autodetected dtype as <class 'numpy.float32'>. Please provide explicit dtype.\u001b[0m\n"
     ]
    }
   ],
   "source": [
    "env = gym.envs.make('MountainCar-v0')"
   ]
  },
  {
   "cell_type": "code",
   "execution_count": 4,
   "metadata": {},
   "outputs": [],
   "source": [
    "def plot_information(policies, values, qs):\n",
    "    def plot_actions(data, title):\n",
    "        fig, axes = plt.subplots(2, 2, figsize=(17, 7))\n",
    "        fig.suptitle(title)\n",
    "        for j in range(4):\n",
    "            axes.flat[j].set_title(f'Action {action_descriptions[j]}')\n",
    "            image = data[:, j].reshape((4, -1))\n",
    "            im = axes.flat[j].imshow(image)\n",
    "        fig.colorbar(im, ax=axes.ravel().tolist())\n",
    "\n",
    "    plot_actions(policies, 'Policies')\n",
    "    plt.show()\n",
    "#     plot_actions(qs, 'Q values')\n",
    "#     plt.show()\n",
    "    \n",
    "    fig = plt.figure(figsize=(17, 4))\n",
    "    plt.imshow(values.reshape((4, -1)))\n",
    "    plt.title('State values')\n",
    "    plt.colorbar()\n",
    "    plt.show()"
   ]
  },
  {
   "cell_type": "code",
   "execution_count": 5,
   "metadata": {},
   "outputs": [],
   "source": [
    "def actionImages(tensor):\n",
    "    tensor = tf.transpose(tf.reshape(tensor, (4, 12, 4, 1)), perm=[2, 0, 1, 3])\n",
    "    images = {}\n",
    "    for key, value in action_descriptions.items():\n",
    "        images[value] = tf.expand_dims(tf.gather(tensor, key), 0)\n",
    "        \n",
    "    return images"
   ]
  },
  {
   "cell_type": "code",
   "execution_count": 19,
   "metadata": {},
   "outputs": [],
   "source": [
    "class A2C:\n",
    "    def __init__(\n",
    "        self,\n",
    "        scope,\n",
    "        state_shape,\n",
    "        num_actions,\n",
    "        value_learning_rate,\n",
    "        policy_learning_rate,\n",
    "        discount_factor,\n",
    "    ):\n",
    "        def relu_layer(input_layer, outputs):\n",
    "            return tf.layers.dense(\n",
    "                input_layer,\n",
    "                outputs,\n",
    "                activation=tf.nn.relu,\n",
    "                kernel_initializer=tf.contrib.layers.variance_scaling_initializer(),\n",
    "            )\n",
    "\n",
    "        self.scope = scope\n",
    "\n",
    "        with tf.variable_scope(scope):\n",
    "            self.state = tf.placeholder(tf.float32, state_shape, \"state\")\n",
    "            self.next_state = tf.placeholder(tf.float32, state_shape, \"next_state\")\n",
    "            self.action = tf.placeholder(tf.int32, [], name=\"action\")\n",
    "            self.reward = tf.placeholder(tf.float32, [], name=\"reward\")\n",
    "\n",
    "            batch = tf.layers.flatten(tf.stack([self.state, self.next_state]))\n",
    "\n",
    "            with tf.variable_scope(\"state_encoder\"):\n",
    "                enc1 = relu_layer(batch, 100)\n",
    "                enc2 = relu_layer(enc1, 20)\n",
    "                encoded = relu_layer(enc2, 2)\n",
    "\n",
    "            with tf.variable_scope(\"value_estimator\"):\n",
    "                vest1 = relu_layer(encoded, 100)\n",
    "                vest2 = relu_layer(vest1, 10)\n",
    "                values = tf.layers.dense(\n",
    "                    vest2, 1, kernel_initializer=tf.zeros_initializer()\n",
    "                )\n",
    "                self.value = tf.squeeze(values[0])\n",
    "                self.td_target = tf.squeeze(self.reward + discount_factor * values[1])\n",
    "                value_loss = tf.squared_difference(self.value, self.td_target)\n",
    "                value_optimizer = tf.train.AdamOptimizer(value_learning_rate)\n",
    "                self.value_train_op = value_optimizer.minimize(\n",
    "                    value_loss, global_step=tf.train.get_global_step()\n",
    "                )\n",
    "                tf.summary.scalar(\"value_loss\", value_loss)\n",
    "\n",
    "            with tf.variable_scope(\"policy_estimator\"):\n",
    "                pest1 = relu_layer(tf.expand_dims(encoded[0], 0), 100)\n",
    "                pest2 = relu_layer(pest1, 10)\n",
    "                self.action_probs = tf.squeeze(\n",
    "                    tf.layers.dense(\n",
    "                        pest2,\n",
    "                        env.action_space.n,\n",
    "                        kernel_initializer=tf.zeros_initializer(),\n",
    "                        activation=tf.nn.softmax,\n",
    "                        name=\"pest_out\",\n",
    "                    )\n",
    "                )\n",
    "                picked_action_prob = tf.squeeze(\n",
    "                    tf.gather(self.action_probs, self.action)\n",
    "                )\n",
    "                policy_loss = -tf.log(picked_action_prob) * self.td_target\n",
    "                policy_optimizer = tf.train.AdamOptimizer(policy_learning_rate)\n",
    "                self.policy_train_op = policy_optimizer.minimize(\n",
    "                    policy_loss, global_step=tf.train.get_global_step()\n",
    "                )\n",
    "                tf.summary.scalar(\"policy_loss\", policy_loss)\n",
    "\n",
    "            self.summary_op = tf.summary.merge_all()\n",
    "\n",
    "    def policy(self, state):\n",
    "        sess = tf.get_default_session()\n",
    "        return sess.run(self.action_probs, {self.state: state, self.next_state: state})\n",
    "\n",
    "    def update(self, state, action, reward, next_state):\n",
    "        sess = tf.get_default_session()\n",
    "        summary, global_step, _, _ = sess.run(\n",
    "            [\n",
    "                self.summary_op,\n",
    "                tf.train.get_global_step(),\n",
    "                self.value_train_op,\n",
    "                self.policy_train_op,\n",
    "            ],\n",
    "            {\n",
    "                self.state: state,\n",
    "                self.next_state: next_state,\n",
    "                self.action: action,\n",
    "                self.reward: reward,\n",
    "            },\n",
    "        )\n",
    "\n",
    "        return global_step, summary\n",
    "\n",
    "\n",
    "def make_copy_op(a2c, other_a2c):\n",
    "    trainable = tf.trainable_variables(scope=a2c.scope)\n",
    "    other_trainable = tf.trainable_variables(scope=other_a2c.scope)\n",
    "\n",
    "    k = lambda x: x.name\n",
    "    assign_op = []\n",
    "    for v, other_v in zip(sorted(trainable, key=k), sorted(other_trainable, key=k)):\n",
    "        assign_op.append(tf.assign(other_v, v))\n",
    "\n",
    "    return assign_op"
   ]
  },
  {
   "cell_type": "code",
   "execution_count": 22,
   "metadata": {},
   "outputs": [],
   "source": [
    "tf.reset_default_graph()\n",
    "tf.train.create_global_step()\n",
    "a2c_trained = A2C(\"train\", [4, 2], 3, 0.1, 0.01, 0.9)\n",
    "a2c_frozen = A2C(\"frozen\", [4, 2], 3, 0.1, 0.01, 0.9)\n",
    "copy_op = make_copy_op(a2c_trained, a2c_frozen)\n",
    "sess = tf.InteractiveSession()\n",
    "sess.run(tf.global_variables_initializer())\n",
    "sess.run(copy_op)\n",
    "writer = tf.summary.FileWriter(f'summaries/{run}', tf.get_default_graph())\n",
    "beholder = Beholder(f'summaries/{run}')\n",
    "run += 1"
   ]
  },
  {
   "cell_type": "code",
   "execution_count": null,
   "metadata": {},
   "outputs": [],
   "source": [
    "episode_lengths = []\n",
    "total_rewards = [0]\n",
    "\n",
    "t = 0\n",
    "for i in range(400):\n",
    "    state = env.reset()\n",
    "\n",
    "    done = False\n",
    "    total_reward = 0\n",
    "    episode_length = 0\n",
    "\n",
    "    history = [state]\n",
    "\n",
    "    while not done:\n",
    "        if len(history) == 4:\n",
    "            action_probs = a2c_frozen.policy(history)\n",
    "            action = np.random.choice(len(action_probs), p=action_probs)\n",
    "        else:\n",
    "            action = np.random.choice(env.action_space.n)\n",
    "\n",
    "        state, reward, done, _ = env.step(action)\n",
    "        history.append(state)\n",
    "\n",
    "        total_reward += reward\n",
    "        episode_length += 1\n",
    "\n",
    "        if len(history) == 5:\n",
    "            global_step, summary = a2c_trained.update(history[:-1], action, reward, history[1:])\n",
    "            writer.add_summary(summary, global_step)\n",
    "#             beholder.update(sess)\n",
    "            history = history[1:]\n",
    "            t += 1\n",
    "            \n",
    "        if t == 100:\n",
    "            sess.run(copy_op)\n",
    "\n",
    "        print(f\"\\rStep {episode_length} @ Episode {i} ({total_rewards[-1]})\", end=\"\")\n",
    "\n",
    "    episode_lengths.append(episode_length)\n",
    "    total_rewards.append(total_reward)"
   ]
  },
  {
   "cell_type": "code",
   "execution_count": 26,
   "metadata": {},
   "outputs": [
    {
     "data": {
      "text/plain": [
       "[<matplotlib.lines.Line2D at 0x7fa6330e18d0>]"
      ]
     },
     "execution_count": 26,
     "metadata": {},
     "output_type": "execute_result"
    },
    {
     "data": {
      "image/png": "[encoded data removed]",
      "text/plain": [
       "<Figure size 432x288 with 1 Axes>"
      ]
     },
     "metadata": {},
     "output_type": "display_data"
    },
    {
     "data": {
      "image/png": "[encoded data removed]",
      "text/plain": [
       "<Figure size 432x288 with 1 Axes>"
      ]
     },
     "metadata": {},
     "output_type": "display_data"
    }
   ],
   "source": [
    "def running_mean(x, N):\n",
    "    cumsum = np.cumsum(np.insert(x, 0, 0)) \n",
    "    return (cumsum[N:] - cumsum[:-N]) / float(N)\n",
    "\n",
    "plt.plot(running_mean(episode_lengths, 25))\n",
    "plt.figure()\n",
    "plt.plot(running_mean(total_rewards, 25))"
   ]
  },
  {
   "cell_type": "code",
   "execution_count": null,
   "metadata": {},
   "outputs": [],
   "source": [
    "state = env.reset()\n",
    "done = False\n",
    "while not done:\n",
    "    action = a2c.policy(state)"
   ]
  }
 ],
 "metadata": {
  "kernelspec": {
   "display_name": "Python 3",
   "language": "python",
   "name": "python3"
  },
  "language_info": {
   "codemirror_mode": {
    "name": "ipython",
    "version": 3
   },
   "file_extension": ".py",
   "mimetype": "text/x-python",
   "name": "python",
   "nbconvert_exporter": "python",
   "pygments_lexer": "ipython3",
   "version": "3.6.6"
  }
 },
 "nbformat": 4,
 "nbformat_minor": 2
}
