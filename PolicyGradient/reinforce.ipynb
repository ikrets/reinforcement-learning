{
 "cells": [
  {
   "cell_type": "code",
   "execution_count": 1,
   "metadata": {},
   "outputs": [],
   "source": [
    "import gym\n",
    "import numpy as np\n",
    "import matplotlib.pyplot as plt\n",
    "import sys\n",
    "if \"../\" not in sys.path:\n",
    "  sys.path.append(\"../\") \n",
    "from lib.envs.cliff_walking import CliffWalkingEnv"
   ]
  },
  {
   "cell_type": "code",
   "execution_count": 2,
   "metadata": {},
   "outputs": [],
   "source": [
    "env = CliffWalkingEnv()\n",
    "action_descriptions = { 0: 'up', 1: 'right', 2: 'down', 3: 'left' }"
   ]
  },
  {
   "cell_type": "code",
   "execution_count": 3,
   "metadata": {},
   "outputs": [],
   "source": [
    "def policy(state, parameters, biases):\n",
    "    s = parameters[state] + biases \n",
    "    shift = s - np.max(s)\n",
    "    action_probs = np.exp(shift)\n",
    "    return action_probs / np.sum(action_probs)\n",
    "\n",
    "def score_function(state, action, parameters, biases):\n",
    "    result = -policy(state, parameters, biases)\n",
    "    result[action] += 1\n",
    "    return result"
   ]
  },
  {
   "cell_type": "code",
   "execution_count": 4,
   "metadata": {},
   "outputs": [],
   "source": [
    "class AdamOptimizer:\n",
    "    def __init__(self, parameters, alpha, beta1=0.9, beta2=0.999, epsilon=1e-8):\n",
    "        self.parameters = parameters\n",
    "        \n",
    "        self.alpha = alpha\n",
    "        self.beta1 = beta1\n",
    "        self.beta2 = beta2\n",
    "        self.epsilon = epsilon\n",
    "        \n",
    "        self.m = np.zeros_like(parameters)\n",
    "        self.v = np.zeros_like(parameters)\n",
    "        self.t = 0\n",
    "        \n",
    "    def step(self, gradients):\n",
    "        self.t += 1\n",
    "        lrt = self.alpha * np.sqrt(1 - self.beta2**self.t) / (1 - self.beta1**self.t)\n",
    "        self.m = self.beta1 * self.m + (1 - self.beta1) * gradients\n",
    "        self.v = self.beta2 * self.v + (1 - self.beta2) * gradients**2\n",
    "        \n",
    "        self.parameters -= self.alpha * lrt * self.m / (np.sqrt(self.v) + self.epsilon)"
   ]
  },
  {
   "cell_type": "code",
   "execution_count": 5,
   "metadata": {},
   "outputs": [],
   "source": [
    "def plot_information(plot_v = False):\n",
    "    policies = np.array([policy(s, parameters, bias) for s in range(env.observation_space.n)])\n",
    "    fig, axes = plt.subplots(2, 2, figsize=(17, 7))\n",
    "    for j in range(4):\n",
    "        axes.flat[j].set_title(f'Action {action_descriptions[j]}')\n",
    "        image = policies[:, j].reshape((4, -1))\n",
    "        im = axes.flat[j].imshow(image)\n",
    "    fig.colorbar(im, ax=axes.ravel().tolist())\n",
    "\n",
    "    if (plot_v):\n",
    "        fig = plt.figure(figsize=(17, 4))\n",
    "        plt.imshow(values.reshape((4, -1)) + value_bias)\n",
    "        plt.title('State values')\n",
    "        plt.colorbar()\n",
    "    plt.show()"
   ]
  },
  {
   "cell_type": "code",
   "execution_count": null,
   "metadata": {},
   "outputs": [],
   "source": [
    "parameters = np.zeros((env.observation_space.n, env.action_space.n), dtype=np.float32)\n",
    "bias = np.zeros(env.action_space.n, dtype=np.float32)\n",
    "values = np.zeros(env.observation_space.n, dtype=np.float32)\n",
    "value_bias = 0\n",
    "\n",
    "# parameters_optimizers = [AdamOptimizer(parameters[state], 0.01) for state in range(env.observation_space.n)]\n",
    "# bias_optimizer = AdamOptimizer(biases, 0.01)\n",
    "# values_optimizers = [AdamOptimizer(values[state], 0.1) for state in range(env.observation_space.n)]\n",
    "# values_bias_optimizer = AdamOptimizer(value_bias, 0.1)\n",
    "\n",
    "episode_lengths = []\n",
    "total_rewards = []\n",
    "\n",
    "for i in range(4000):\n",
    "    state = env.reset()\n",
    "    done = False\n",
    "    steps = []\n",
    "    \n",
    "    while not done:\n",
    "        action_probs = policy(state, parameters, bias)\n",
    "        action = np.random.choice(np.arange(len(action_probs)), p=action_probs)\n",
    "        \n",
    "        next_state, reward, done, _ = env.step(action)\n",
    "        steps.append((state, action, reward, next_state))\n",
    "        state = next_state\n",
    "\n",
    "    for j in range(len(steps)):\n",
    "        state, action, reward, _ = steps[j]\n",
    "        total_reward = sum(steps[k][2] for k in range(j, len(steps)))\n",
    "        if j == 0:\n",
    "            total_rewards.append(total_reward)\n",
    "            \n",
    "#         if (steps[-1][3] == 47):\n",
    "#             print(f'Total reward: {total_reward}, parameters: {parameters[state]}, value: {values[state]}, ' +\n",
    "#                    f'policy: {policy(state, parameters)}, score function: {score_function(state, action, parameters)}')\n",
    "\n",
    "        parameters_gradient = - score_function(state, action, parameters, bias) * (total_reward - values[state] - value_bias)\n",
    "        values_gradient = values[state] + value_bias - total_reward\n",
    "        \n",
    "        parameters[state] -= 0.01 * parameters_gradient\n",
    "        bias -= 0.01 * parameters_gradient\n",
    "        values[state] -= 0.1 * values_gradient\n",
    "        value_bias -= 0.1 * values_gradient\n",
    "        \n",
    "#         if (steps[-1][3] == 47):\n",
    "#             print(f'Parameters after update: {parameters[state]}, value after update: {values[state]}, policy: {policy(state, parameters)}')\n",
    "    \n",
    "#     if (steps[-1][3] == 47):\n",
    "#         print(f'# Achieved target in iteration {i}! Total reward: {total_rewards[-1]}')\n",
    "#         print('Plotting information')\n",
    "#         plot_information(True)\n",
    "        \n",
    "    episode_lengths.append(len(steps))\n",
    "    if i % 500 == 0:\n",
    "        print(f'Episode {i}: {[action_descriptions[s[1]] for s in steps]}')\n",
    "        plot_information(True)"
   ]
  },
  {
   "cell_type": "code",
   "execution_count": null,
   "metadata": {},
   "outputs": [],
   "source": [
    "parameters[36]"
   ]
  },
  {
   "cell_type": "code",
   "execution_count": null,
   "metadata": {},
   "outputs": [],
   "source": [
    "biases"
   ]
  },
  {
   "cell_type": "code",
   "execution_count": 8,
   "metadata": {},
   "outputs": [
    {
     "data": {
      "text/plain": [
       "[<matplotlib.lines.Line2D at 0x7fb019812be0>]"
      ]
     },
     "execution_count": 8,
     "metadata": {},
     "output_type": "execute_result"
    },
    {
     "data": {
      "image/png": "[encoded data removed]",
      "text/plain": [
       "<Figure size 432x288 with 1 Axes>"
      ]
     },
     "metadata": {},
     "output_type": "display_data"
    },
    {
     "data": {
      "image/png": "[encoded data removed]",
      "text/plain": [
       "<Figure size 432x288 with 1 Axes>"
      ]
     },
     "metadata": {},
     "output_type": "display_data"
    }
   ],
   "source": [
    "def running_mean(x, N):\n",
    "    cumsum = np.cumsum(np.insert(x, 0, 0)) \n",
    "    return (cumsum[N:] - cumsum[:-N]) / float(N)\n",
    "\n",
    "plt.plot(running_mean(episode_lengths, 25))\n",
    "plt.figure()\n",
    "plt.plot(running_mean(total_rewards, 25))"
   ]
  },
  {
   "cell_type": "code",
   "execution_count": null,
   "metadata": {},
   "outputs": [],
   "source": [
    "parameters[36]"
   ]
  },
  {
   "cell_type": "code",
   "execution_count": null,
   "metadata": {},
   "outputs": [],
   "source": [
    "policy(36, parameters)"
   ]
  }
 ],
 "metadata": {
  "kernelspec": {
   "display_name": "Python 3",
   "language": "python",
   "name": "python3"
  },
  "language_info": {
   "codemirror_mode": {
    "name": "ipython",
    "version": 3
   },
   "file_extension": ".py",
   "mimetype": "text/x-python",
   "name": "python",
   "nbconvert_exporter": "python",
   "pygments_lexer": "ipython3",
   "version": "3.6.6"
  }
 },
 "nbformat": 4,
 "nbformat_minor": 2
}
