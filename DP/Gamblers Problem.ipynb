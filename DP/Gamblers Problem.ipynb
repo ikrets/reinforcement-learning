{
 "cells": [
  {
   "cell_type": "markdown",
   "metadata": {},
   "source": [
    "### This is Example 4.3. Gambler’s Problem from Sutton's book.\n",
    "\n",
    "A gambler has the opportunity to make bets on the outcomes of a sequence of coin flips. \n",
    "If the coin comes up heads, he wins as many dollars as he has staked on that flip; \n",
    "if it is tails, he loses his stake. The game ends when the gambler wins by reaching his goal of $100, \n",
    "or loses by running out of money. \n",
    "\n",
    "On each flip, the gambler must decide what portion of his capital to stake, in integer numbers of dollars. \n",
    "This problem can be formulated as an undiscounted, episodic, finite MDP. \n",
    "\n",
    "The state is the gambler’s capital, s ∈ {1, 2, . . . , 99}.\n",
    "The actions are stakes, a ∈ {0, 1, . . . , min(s, 100 − s)}. \n",
    "The reward is zero on all transitions except those on which the gambler reaches his goal, when it is +1.\n",
    "\n",
    "The state-value function then gives the probability of winning from each state. A policy is a mapping from levels of capital to stakes. The optimal policy maximizes the probability of reaching the goal. Let p_h denote the probability of the coin coming up heads. If p_h is known, then the entire problem is known and it can be solved, for instance, by value iteration.\n"
   ]
  },
  {
   "cell_type": "code",
   "execution_count": 2,
   "metadata": {
    "collapsed": true
   },
   "outputs": [],
   "source": [
    "import numpy as np\n",
    "import sys\n",
    "import matplotlib.pyplot as plt\n",
    "if \"../\" not in sys.path:\n",
    "  sys.path.append(\"../\") "
   ]
  },
  {
   "cell_type": "markdown",
   "metadata": {},
   "source": [
    "\n",
    "### Exercise 4.9 (programming)\n",
    "\n",
    "Implement value iteration for the gambler’s problem and solve it for p_h = 0.25 and p_h = 0.55.\n",
    "\n"
   ]
  },
  {
   "cell_type": "code",
   "execution_count": 37,
   "metadata": {
    "collapsed": true
   },
   "outputs": [],
   "source": [
    "def value_iteration_for_gamblers(p_h, theta=1e-8, discount_factor=1.0):\n",
    "    \"\"\"\n",
    "    Args:\n",
    "        p_h: Probability of the coin coming up heads\n",
    "    \"\"\"\n",
    "    \n",
    "    def one_step_lookahead(s, V):\n",
    "        \"\"\"\n",
    "        Helper function to calculate the value for all action in a given state.\n",
    "        \n",
    "        Args:\n",
    "            s: The gambler’s capital. Integer.\n",
    "            V: The vector that contains values at each state. \n",
    "            rewards: The reward vector.\n",
    "                        \n",
    "        Returns:\n",
    "            A vector containing the expected value of each action. \n",
    "            Its length equals to the number of actions.\n",
    "        \"\"\"\n",
    "        \n",
    "        actions = np.zeros(min(s + 1, 101 - s))\n",
    "        \n",
    "        for a in range(1, len(actions)):\n",
    "            actions[a] = (1 - p_h) * discount_factor * V[s - a]\n",
    "            \n",
    "            if a + s >= 100:\n",
    "                actions[a] += p_h\n",
    "            else:\n",
    "                actions[a] += p_h * discount_factor * V[s + a]\n",
    "        \n",
    "        return actions\n",
    "    \n",
    "    V = np.zeros(100)\n",
    "    \n",
    "    while True:\n",
    "        max_delta = 0\n",
    "        for s in range(100):\n",
    "            actions = one_step_lookahead(s, V)\n",
    "            max_delta = max(max_delta, abs(V[s] - np.max(actions)))\n",
    "            V[s] = np.max(actions)\n",
    "        \n",
    "        if max_delta < theta:\n",
    "            break\n",
    "            \n",
    "    policy = np.zeros(100)\n",
    "    for s in range(100):\n",
    "        actions = one_step_lookahead(s, V)\n",
    "        policy[s] = np.argmax(actions)\n",
    "    \n",
    "    return policy, V"
   ]
  },
  {
   "cell_type": "code",
   "execution_count": 48,
   "metadata": {
    "collapsed": true
   },
   "outputs": [
    {
     "name": "stdout",
     "output_type": "stream",
     "text": [
      "Optimized Policy:\n",
      "[0. 1. 1. 1. 1. 1. 1. 1. 1. 1. 1. 1. 1. 1. 1. 1. 1. 1. 1. 1. 1. 1. 1. 1.\n",
      " 1. 1. 1. 1. 1. 1. 1. 1. 1. 1. 1. 1. 1. 1. 1. 1. 1. 1. 1. 1. 1. 1. 1. 1.\n",
      " 1. 1. 1. 1. 1. 1. 1. 1. 1. 1. 1. 1. 1. 1. 1. 1. 1. 1. 1. 1. 1. 1. 1. 1.\n",
      " 1. 1. 1. 1. 1. 1. 1. 1. 1. 1. 1. 1. 1. 1. 1. 1. 1. 1. 1. 1. 1. 1. 1. 1.\n",
      " 1. 1. 1. 1.]\n",
      "\n",
      "Optimized Value Function:\n",
      "[0.         0.18181794 0.33057808 0.45229093 0.55187418 0.63335139\n",
      " 0.70001457 0.75455719 0.79918297 0.83569499 0.86556846 0.89001041\n",
      " 0.91000837 0.92637035 0.93975744 0.95071052 0.95967213 0.96700437\n",
      " 0.97300349 0.97791186 0.9819278  0.98521359 0.98790196 0.99010154\n",
      " 0.99190121 0.99337366 0.9945784  0.99556411 0.99637059 0.99703045\n",
      " 0.99757034 0.99801206 0.99837348 0.99866919 0.99891113 0.99910909\n",
      " 0.99927105 0.99940357 0.999512   0.99960071 0.9996733  0.99973269\n",
      " 0.99978128 0.99982104 0.99985357 0.99988019 0.99990197 0.99991978\n",
      " 0.99993436 0.99994629 0.99995605 0.99996404 0.99997058 0.99997592\n",
      " 0.9999803  0.99998388 0.99998681 0.99998921 0.99999117 0.99999277\n",
      " 0.99999409 0.99999516 0.99999604 0.99999676 0.99999735 0.99999783\n",
      " 0.99999822 0.99999855 0.99999881 0.99999903 0.9999992  0.99999935\n",
      " 0.99999947 0.99999956 0.99999964 0.99999971 0.99999976 0.99999981\n",
      " 0.99999984 0.99999987 0.99999989 0.99999991 0.99999993 0.99999994\n",
      " 0.99999995 0.99999996 0.99999997 0.99999998 0.99999998 0.99999998\n",
      " 0.99999999 0.99999999 0.99999999 0.99999999 1.         1.\n",
      " 1.         1.         1.         1.        ]\n",
      "\n"
     ]
    }
   ],
   "source": [
    "policy, v = value_iteration_for_gamblers(0.55)\n",
    "\n",
    "print(\"Optimized Policy:\")\n",
    "print(policy)\n",
    "print(\"\")\n",
    "\n",
    "print(\"Optimized Value Function:\")\n",
    "print(v)\n",
    "print(\"\")"
   ]
  },
  {
   "cell_type": "code",
   "execution_count": 49,
   "metadata": {
    "collapsed": true
   },
   "outputs": [
    {
     "data": {
      "image/png": "[encoded data removed]",
      "text/plain": [
       "<Figure size 432x288 with 1 Axes>"
      ]
     },
     "metadata": {},
     "output_type": "display_data"
    }
   ],
   "source": [
    "# Plotting Final Policy (action stake) vs State (Capital)\n",
    "\n",
    "plt.plot(np.arange(1, 100), v[1: 100]);"
   ]
  },
  {
   "cell_type": "code",
   "execution_count": 50,
   "metadata": {
    "collapsed": true
   },
   "outputs": [
    {
     "data": {
      "image/png": "[encoded data removed]",
      "text/plain": [
       "<Figure size 432x288 with 1 Axes>"
      ]
     },
     "metadata": {},
     "output_type": "display_data"
    }
   ],
   "source": [
    "# Plotting Capital vs Final Policy\n",
    "\n",
    "plt.bar(np.arange(1, 100), policy[1: 100]);"
   ]
  }
 ],
 "metadata": {
  "kernelspec": {
   "display_name": "Python 3",
   "language": "python",
   "name": "python3"
  },
  "language_info": {
   "codemirror_mode": {
    "name": "ipython",
    "version": 3
   },
   "file_extension": ".py",
   "mimetype": "text/x-python",
   "name": "python",
   "nbconvert_exporter": "python",
   "pygments_lexer": "ipython3",
   "version": "3.6.6"
  }
 },
 "nbformat": 4,
 "nbformat_minor": 2
}
